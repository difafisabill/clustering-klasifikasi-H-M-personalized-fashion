{
  "nbformat": 4,
  "nbformat_minor": 0,
  "metadata": {
    "colab": {
      "provenance": [],
      "toc_visible": true
    },
    "kernelspec": {
      "name": "python3",
      "display_name": "Python 3"
    },
    "language_info": {
      "name": "python"
    }
  },
  "cells": [
    {
      "cell_type": "markdown",
      "source": [
        "- **Nama:** Difa Fisabilillah\n",
        "- **Email:** difafisabilillah91@gmail.com\n",
        "- **ID Dicoding:** MC401D5X0255"
      ],
      "metadata": {
        "id": "Y2Ot6iaVIM_-"
      }
    },
    {
      "cell_type": "markdown",
      "source": [
        "# **1. Import Library**"
      ],
      "metadata": {
        "id": "fKADPWcFKlj3"
      }
    },
    {
      "cell_type": "code",
      "source": [
        "!pip install category_encoders"
      ],
      "metadata": {
        "id": "BlmvjLY9M4Yj",
        "colab": {
          "base_uri": "https://localhost:8080/"
        },
        "collapsed": true,
        "outputId": "f2d3089a-1401-48e2-daf1-95e6b4492d70"
      },
      "execution_count": 1,
      "outputs": [
        {
          "output_type": "stream",
          "name": "stdout",
          "text": [
            "Collecting category_encoders\n",
            "  Downloading category_encoders-2.8.1-py3-none-any.whl.metadata (7.9 kB)\n",
            "Requirement already satisfied: numpy>=1.14.0 in /usr/local/lib/python3.11/dist-packages (from category_encoders) (2.0.2)\n",
            "Requirement already satisfied: pandas>=1.0.5 in /usr/local/lib/python3.11/dist-packages (from category_encoders) (2.2.2)\n",
            "Requirement already satisfied: patsy>=0.5.1 in /usr/local/lib/python3.11/dist-packages (from category_encoders) (1.0.1)\n",
            "Requirement already satisfied: scikit-learn>=1.6.0 in /usr/local/lib/python3.11/dist-packages (from category_encoders) (1.6.1)\n",
            "Requirement already satisfied: scipy>=1.0.0 in /usr/local/lib/python3.11/dist-packages (from category_encoders) (1.14.1)\n",
            "Requirement already satisfied: statsmodels>=0.9.0 in /usr/local/lib/python3.11/dist-packages (from category_encoders) (0.14.4)\n",
            "Requirement already satisfied: python-dateutil>=2.8.2 in /usr/local/lib/python3.11/dist-packages (from pandas>=1.0.5->category_encoders) (2.8.2)\n",
            "Requirement already satisfied: pytz>=2020.1 in /usr/local/lib/python3.11/dist-packages (from pandas>=1.0.5->category_encoders) (2025.1)\n",
            "Requirement already satisfied: tzdata>=2022.7 in /usr/local/lib/python3.11/dist-packages (from pandas>=1.0.5->category_encoders) (2025.1)\n",
            "Requirement already satisfied: joblib>=1.2.0 in /usr/local/lib/python3.11/dist-packages (from scikit-learn>=1.6.0->category_encoders) (1.4.2)\n",
            "Requirement already satisfied: threadpoolctl>=3.1.0 in /usr/local/lib/python3.11/dist-packages (from scikit-learn>=1.6.0->category_encoders) (3.6.0)\n",
            "Requirement already satisfied: packaging>=21.3 in /usr/local/lib/python3.11/dist-packages (from statsmodels>=0.9.0->category_encoders) (24.2)\n",
            "Requirement already satisfied: six>=1.5 in /usr/local/lib/python3.11/dist-packages (from python-dateutil>=2.8.2->pandas>=1.0.5->category_encoders) (1.17.0)\n",
            "Downloading category_encoders-2.8.1-py3-none-any.whl (85 kB)\n",
            "\u001b[2K   \u001b[90m━━━━━━━━━━━━━━━━━━━━━━━━━━━━━━━━━━━━━━━━\u001b[0m \u001b[32m85.7/85.7 kB\u001b[0m \u001b[31m3.5 MB/s\u001b[0m eta \u001b[36m0:00:00\u001b[0m\n",
            "\u001b[?25hInstalling collected packages: category_encoders\n",
            "Successfully installed category_encoders-2.8.1\n"
          ]
        }
      ]
    },
    {
      "cell_type": "code",
      "source": [
        "import warnings\n",
        "\n",
        "warnings.filterwarnings(\"ignore\", category=UserWarning)"
      ],
      "metadata": {
        "id": "aYTsM-IvbcRT"
      },
      "execution_count": 2,
      "outputs": []
    },
    {
      "cell_type": "code",
      "source": [
        "import pandas as pd\n",
        "import matplotlib.pyplot as plt\n",
        "from category_encoders import OrdinalEncoder\n",
        "from sklearn.preprocessing import StandardScaler\n",
        "from sklearn.model_selection import train_test_split, cross_val_score\n",
        "from sklearn.neighbors import KNeighborsClassifier\n",
        "from sklearn.tree import DecisionTreeClassifier\n",
        "from sklearn.svm import SVC\n",
        "from sklearn.ensemble import RandomForestClassifier\n",
        "from sklearn.naive_bayes import GaussianNB\n",
        "import seaborn as sns\n",
        "from sklearn.linear_model import LogisticRegression\n",
        "from sklearn.metrics import classification_report, confusion_matrix, ConfusionMatrixDisplay, accuracy_score\n",
        "from sklearn.model_selection import RandomizedSearchCV\n",
        "import numpy as np\n"
      ],
      "metadata": {
        "id": "YUbYS_dJSThq"
      },
      "execution_count": 25,
      "outputs": []
    },
    {
      "cell_type": "markdown",
      "source": [
        "# **2. Memuat Dataset dari Hasil Clustering**"
      ],
      "metadata": {
        "id": "f3YIEnAFKrKL"
      }
    },
    {
      "cell_type": "code",
      "source": [
        "from google.colab import drive\n",
        "drive.mount('/content/drive')"
      ],
      "metadata": {
        "id": "GHCGNTyrM5fS",
        "colab": {
          "base_uri": "https://localhost:8080/"
        },
        "outputId": "a9cd60af-25f5-47fb-a657-0ca49cbaa5b0"
      },
      "execution_count": 4,
      "outputs": [
        {
          "output_type": "stream",
          "name": "stdout",
          "text": [
            "Mounted at /content/drive\n"
          ]
        }
      ]
    },
    {
      "cell_type": "code",
      "source": [
        "cd './drive/MyDrive/Dicoding/Project 2/'"
      ],
      "metadata": {
        "colab": {
          "base_uri": "https://localhost:8080/"
        },
        "id": "bjuGtOMRSi-e",
        "outputId": "a21e1772-8687-49f9-8288-80924b8fe817"
      },
      "execution_count": 5,
      "outputs": [
        {
          "output_type": "stream",
          "name": "stdout",
          "text": [
            "/content/drive/MyDrive/Dicoding/Project 2\n"
          ]
        }
      ]
    },
    {
      "cell_type": "code",
      "source": [
        "df = pd.read_csv('./Dataset inisialisasi.csv')"
      ],
      "metadata": {
        "id": "MbQfRUz2Sn17"
      },
      "execution_count": 6,
      "outputs": []
    },
    {
      "cell_type": "markdown",
      "source": [
        "# **3. Data Splitting**"
      ],
      "metadata": {
        "id": "KkPem5eWL2UP"
      }
    },
    {
      "cell_type": "code",
      "source": [
        "le = OrdinalEncoder()\n",
        "df_encode = le.fit_transform(df)"
      ],
      "metadata": {
        "id": "OubAW-7ONKVj"
      },
      "execution_count": 7,
      "outputs": []
    },
    {
      "cell_type": "code",
      "source": [
        "X = df_encode.iloc[:, :-1]\n",
        "y = df_encode.iloc[:, -1]"
      ],
      "metadata": {
        "id": "ev04aJfDTQBB"
      },
      "execution_count": 8,
      "outputs": []
    },
    {
      "cell_type": "code",
      "source": [
        "X.head()"
      ],
      "metadata": {
        "colab": {
          "base_uri": "https://localhost:8080/",
          "height": 206
        },
        "id": "EEADTMXVTRsw",
        "outputId": "292a21c6-ffd2-4524-b0ac-27cc791ff473"
      },
      "execution_count": 9,
      "outputs": [
        {
          "output_type": "execute_result",
          "data": {
            "text/plain": [
              "    age  club_member_status  fashion_news_frequency  product_group_name  \\\n",
              "0  31.0                   1                       1                   1   \n",
              "1  31.0                   1                       2                   2   \n",
              "2  32.0                   1                       1                   3   \n",
              "3  35.0                   1                       1                   4   \n",
              "4  24.0                   2                       1                   5   \n",
              "\n",
              "      price  \n",
              "0  0.025407  \n",
              "1  0.011847  \n",
              "2  0.033881  \n",
              "3  0.016932  \n",
              "4  0.016932  "
            ],
            "text/html": [
              "\n",
              "  <div id=\"df-0df42249-77da-483c-bb68-1c474ce61ef9\" class=\"colab-df-container\">\n",
              "    <div>\n",
              "<style scoped>\n",
              "    .dataframe tbody tr th:only-of-type {\n",
              "        vertical-align: middle;\n",
              "    }\n",
              "\n",
              "    .dataframe tbody tr th {\n",
              "        vertical-align: top;\n",
              "    }\n",
              "\n",
              "    .dataframe thead th {\n",
              "        text-align: right;\n",
              "    }\n",
              "</style>\n",
              "<table border=\"1\" class=\"dataframe\">\n",
              "  <thead>\n",
              "    <tr style=\"text-align: right;\">\n",
              "      <th></th>\n",
              "      <th>age</th>\n",
              "      <th>club_member_status</th>\n",
              "      <th>fashion_news_frequency</th>\n",
              "      <th>product_group_name</th>\n",
              "      <th>price</th>\n",
              "    </tr>\n",
              "  </thead>\n",
              "  <tbody>\n",
              "    <tr>\n",
              "      <th>0</th>\n",
              "      <td>31.0</td>\n",
              "      <td>1</td>\n",
              "      <td>1</td>\n",
              "      <td>1</td>\n",
              "      <td>0.025407</td>\n",
              "    </tr>\n",
              "    <tr>\n",
              "      <th>1</th>\n",
              "      <td>31.0</td>\n",
              "      <td>1</td>\n",
              "      <td>2</td>\n",
              "      <td>2</td>\n",
              "      <td>0.011847</td>\n",
              "    </tr>\n",
              "    <tr>\n",
              "      <th>2</th>\n",
              "      <td>32.0</td>\n",
              "      <td>1</td>\n",
              "      <td>1</td>\n",
              "      <td>3</td>\n",
              "      <td>0.033881</td>\n",
              "    </tr>\n",
              "    <tr>\n",
              "      <th>3</th>\n",
              "      <td>35.0</td>\n",
              "      <td>1</td>\n",
              "      <td>1</td>\n",
              "      <td>4</td>\n",
              "      <td>0.016932</td>\n",
              "    </tr>\n",
              "    <tr>\n",
              "      <th>4</th>\n",
              "      <td>24.0</td>\n",
              "      <td>2</td>\n",
              "      <td>1</td>\n",
              "      <td>5</td>\n",
              "      <td>0.016932</td>\n",
              "    </tr>\n",
              "  </tbody>\n",
              "</table>\n",
              "</div>\n",
              "    <div class=\"colab-df-buttons\">\n",
              "\n",
              "  <div class=\"colab-df-container\">\n",
              "    <button class=\"colab-df-convert\" onclick=\"convertToInteractive('df-0df42249-77da-483c-bb68-1c474ce61ef9')\"\n",
              "            title=\"Convert this dataframe to an interactive table.\"\n",
              "            style=\"display:none;\">\n",
              "\n",
              "  <svg xmlns=\"http://www.w3.org/2000/svg\" height=\"24px\" viewBox=\"0 -960 960 960\">\n",
              "    <path d=\"M120-120v-720h720v720H120Zm60-500h600v-160H180v160Zm220 220h160v-160H400v160Zm0 220h160v-160H400v160ZM180-400h160v-160H180v160Zm440 0h160v-160H620v160ZM180-180h160v-160H180v160Zm440 0h160v-160H620v160Z\"/>\n",
              "  </svg>\n",
              "    </button>\n",
              "\n",
              "  <style>\n",
              "    .colab-df-container {\n",
              "      display:flex;\n",
              "      gap: 12px;\n",
              "    }\n",
              "\n",
              "    .colab-df-convert {\n",
              "      background-color: #E8F0FE;\n",
              "      border: none;\n",
              "      border-radius: 50%;\n",
              "      cursor: pointer;\n",
              "      display: none;\n",
              "      fill: #1967D2;\n",
              "      height: 32px;\n",
              "      padding: 0 0 0 0;\n",
              "      width: 32px;\n",
              "    }\n",
              "\n",
              "    .colab-df-convert:hover {\n",
              "      background-color: #E2EBFA;\n",
              "      box-shadow: 0px 1px 2px rgba(60, 64, 67, 0.3), 0px 1px 3px 1px rgba(60, 64, 67, 0.15);\n",
              "      fill: #174EA6;\n",
              "    }\n",
              "\n",
              "    .colab-df-buttons div {\n",
              "      margin-bottom: 4px;\n",
              "    }\n",
              "\n",
              "    [theme=dark] .colab-df-convert {\n",
              "      background-color: #3B4455;\n",
              "      fill: #D2E3FC;\n",
              "    }\n",
              "\n",
              "    [theme=dark] .colab-df-convert:hover {\n",
              "      background-color: #434B5C;\n",
              "      box-shadow: 0px 1px 3px 1px rgba(0, 0, 0, 0.15);\n",
              "      filter: drop-shadow(0px 1px 2px rgba(0, 0, 0, 0.3));\n",
              "      fill: #FFFFFF;\n",
              "    }\n",
              "  </style>\n",
              "\n",
              "    <script>\n",
              "      const buttonEl =\n",
              "        document.querySelector('#df-0df42249-77da-483c-bb68-1c474ce61ef9 button.colab-df-convert');\n",
              "      buttonEl.style.display =\n",
              "        google.colab.kernel.accessAllowed ? 'block' : 'none';\n",
              "\n",
              "      async function convertToInteractive(key) {\n",
              "        const element = document.querySelector('#df-0df42249-77da-483c-bb68-1c474ce61ef9');\n",
              "        const dataTable =\n",
              "          await google.colab.kernel.invokeFunction('convertToInteractive',\n",
              "                                                    [key], {});\n",
              "        if (!dataTable) return;\n",
              "\n",
              "        const docLinkHtml = 'Like what you see? Visit the ' +\n",
              "          '<a target=\"_blank\" href=https://colab.research.google.com/notebooks/data_table.ipynb>data table notebook</a>'\n",
              "          + ' to learn more about interactive tables.';\n",
              "        element.innerHTML = '';\n",
              "        dataTable['output_type'] = 'display_data';\n",
              "        await google.colab.output.renderOutput(dataTable, element);\n",
              "        const docLink = document.createElement('div');\n",
              "        docLink.innerHTML = docLinkHtml;\n",
              "        element.appendChild(docLink);\n",
              "      }\n",
              "    </script>\n",
              "  </div>\n",
              "\n",
              "\n",
              "<div id=\"df-e08d4ca6-11fe-4da4-9667-0e7fa8e760e1\">\n",
              "  <button class=\"colab-df-quickchart\" onclick=\"quickchart('df-e08d4ca6-11fe-4da4-9667-0e7fa8e760e1')\"\n",
              "            title=\"Suggest charts\"\n",
              "            style=\"display:none;\">\n",
              "\n",
              "<svg xmlns=\"http://www.w3.org/2000/svg\" height=\"24px\"viewBox=\"0 0 24 24\"\n",
              "     width=\"24px\">\n",
              "    <g>\n",
              "        <path d=\"M19 3H5c-1.1 0-2 .9-2 2v14c0 1.1.9 2 2 2h14c1.1 0 2-.9 2-2V5c0-1.1-.9-2-2-2zM9 17H7v-7h2v7zm4 0h-2V7h2v10zm4 0h-2v-4h2v4z\"/>\n",
              "    </g>\n",
              "</svg>\n",
              "  </button>\n",
              "\n",
              "<style>\n",
              "  .colab-df-quickchart {\n",
              "      --bg-color: #E8F0FE;\n",
              "      --fill-color: #1967D2;\n",
              "      --hover-bg-color: #E2EBFA;\n",
              "      --hover-fill-color: #174EA6;\n",
              "      --disabled-fill-color: #AAA;\n",
              "      --disabled-bg-color: #DDD;\n",
              "  }\n",
              "\n",
              "  [theme=dark] .colab-df-quickchart {\n",
              "      --bg-color: #3B4455;\n",
              "      --fill-color: #D2E3FC;\n",
              "      --hover-bg-color: #434B5C;\n",
              "      --hover-fill-color: #FFFFFF;\n",
              "      --disabled-bg-color: #3B4455;\n",
              "      --disabled-fill-color: #666;\n",
              "  }\n",
              "\n",
              "  .colab-df-quickchart {\n",
              "    background-color: var(--bg-color);\n",
              "    border: none;\n",
              "    border-radius: 50%;\n",
              "    cursor: pointer;\n",
              "    display: none;\n",
              "    fill: var(--fill-color);\n",
              "    height: 32px;\n",
              "    padding: 0;\n",
              "    width: 32px;\n",
              "  }\n",
              "\n",
              "  .colab-df-quickchart:hover {\n",
              "    background-color: var(--hover-bg-color);\n",
              "    box-shadow: 0 1px 2px rgba(60, 64, 67, 0.3), 0 1px 3px 1px rgba(60, 64, 67, 0.15);\n",
              "    fill: var(--button-hover-fill-color);\n",
              "  }\n",
              "\n",
              "  .colab-df-quickchart-complete:disabled,\n",
              "  .colab-df-quickchart-complete:disabled:hover {\n",
              "    background-color: var(--disabled-bg-color);\n",
              "    fill: var(--disabled-fill-color);\n",
              "    box-shadow: none;\n",
              "  }\n",
              "\n",
              "  .colab-df-spinner {\n",
              "    border: 2px solid var(--fill-color);\n",
              "    border-color: transparent;\n",
              "    border-bottom-color: var(--fill-color);\n",
              "    animation:\n",
              "      spin 1s steps(1) infinite;\n",
              "  }\n",
              "\n",
              "  @keyframes spin {\n",
              "    0% {\n",
              "      border-color: transparent;\n",
              "      border-bottom-color: var(--fill-color);\n",
              "      border-left-color: var(--fill-color);\n",
              "    }\n",
              "    20% {\n",
              "      border-color: transparent;\n",
              "      border-left-color: var(--fill-color);\n",
              "      border-top-color: var(--fill-color);\n",
              "    }\n",
              "    30% {\n",
              "      border-color: transparent;\n",
              "      border-left-color: var(--fill-color);\n",
              "      border-top-color: var(--fill-color);\n",
              "      border-right-color: var(--fill-color);\n",
              "    }\n",
              "    40% {\n",
              "      border-color: transparent;\n",
              "      border-right-color: var(--fill-color);\n",
              "      border-top-color: var(--fill-color);\n",
              "    }\n",
              "    60% {\n",
              "      border-color: transparent;\n",
              "      border-right-color: var(--fill-color);\n",
              "    }\n",
              "    80% {\n",
              "      border-color: transparent;\n",
              "      border-right-color: var(--fill-color);\n",
              "      border-bottom-color: var(--fill-color);\n",
              "    }\n",
              "    90% {\n",
              "      border-color: transparent;\n",
              "      border-bottom-color: var(--fill-color);\n",
              "    }\n",
              "  }\n",
              "</style>\n",
              "\n",
              "  <script>\n",
              "    async function quickchart(key) {\n",
              "      const quickchartButtonEl =\n",
              "        document.querySelector('#' + key + ' button');\n",
              "      quickchartButtonEl.disabled = true;  // To prevent multiple clicks.\n",
              "      quickchartButtonEl.classList.add('colab-df-spinner');\n",
              "      try {\n",
              "        const charts = await google.colab.kernel.invokeFunction(\n",
              "            'suggestCharts', [key], {});\n",
              "      } catch (error) {\n",
              "        console.error('Error during call to suggestCharts:', error);\n",
              "      }\n",
              "      quickchartButtonEl.classList.remove('colab-df-spinner');\n",
              "      quickchartButtonEl.classList.add('colab-df-quickchart-complete');\n",
              "    }\n",
              "    (() => {\n",
              "      let quickchartButtonEl =\n",
              "        document.querySelector('#df-e08d4ca6-11fe-4da4-9667-0e7fa8e760e1 button');\n",
              "      quickchartButtonEl.style.display =\n",
              "        google.colab.kernel.accessAllowed ? 'block' : 'none';\n",
              "    })();\n",
              "  </script>\n",
              "</div>\n",
              "\n",
              "    </div>\n",
              "  </div>\n"
            ],
            "application/vnd.google.colaboratory.intrinsic+json": {
              "type": "dataframe",
              "variable_name": "X",
              "summary": "{\n  \"name\": \"X\",\n  \"rows\": 10177,\n  \"fields\": [\n    {\n      \"column\": \"age\",\n      \"properties\": {\n        \"dtype\": \"number\",\n        \"std\": 13.518353765732645,\n        \"min\": 16.0,\n        \"max\": 83.0,\n        \"num_unique_values\": 68,\n        \"samples\": [\n          80.0,\n          44.0,\n          26.0\n        ],\n        \"semantic_type\": \"\",\n        \"description\": \"\"\n      }\n    },\n    {\n      \"column\": \"club_member_status\",\n      \"properties\": {\n        \"dtype\": \"number\",\n        \"std\": 0,\n        \"min\": 1,\n        \"max\": 4,\n        \"num_unique_values\": 4,\n        \"samples\": [\n          2,\n          4,\n          1\n        ],\n        \"semantic_type\": \"\",\n        \"description\": \"\"\n      }\n    },\n    {\n      \"column\": \"fashion_news_frequency\",\n      \"properties\": {\n        \"dtype\": \"number\",\n        \"std\": 0,\n        \"min\": 1,\n        \"max\": 3,\n        \"num_unique_values\": 3,\n        \"samples\": [\n          1,\n          2,\n          3\n        ],\n        \"semantic_type\": \"\",\n        \"description\": \"\"\n      }\n    },\n    {\n      \"column\": \"product_group_name\",\n      \"properties\": {\n        \"dtype\": \"number\",\n        \"std\": 1,\n        \"min\": 1,\n        \"max\": 12,\n        \"num_unique_values\": 12,\n        \"samples\": [\n          11,\n          10,\n          1\n        ],\n        \"semantic_type\": \"\",\n        \"description\": \"\"\n      }\n    },\n    {\n      \"column\": \"price\",\n      \"properties\": {\n        \"dtype\": \"number\",\n        \"std\": 0.013956800080112025,\n        \"min\": 0.0007966101694915,\n        \"max\": 0.0641694915254237,\n        \"num_unique_values\": 1427,\n        \"samples\": [\n          0.0078135593220338,\n          0.0244406779661016,\n          0.0136779661016949\n        ],\n        \"semantic_type\": \"\",\n        \"description\": \"\"\n      }\n    }\n  ]\n}"
            }
          },
          "metadata": {},
          "execution_count": 9
        }
      ]
    },
    {
      "cell_type": "code",
      "source": [
        "y.head()"
      ],
      "metadata": {
        "colab": {
          "base_uri": "https://localhost:8080/",
          "height": 241
        },
        "id": "eKi2-OvmTXge",
        "outputId": "81222573-ff48-4943-fd12-288c420fd134"
      },
      "execution_count": 10,
      "outputs": [
        {
          "output_type": "execute_result",
          "data": {
            "text/plain": [
              "0    0\n",
              "1    3\n",
              "2    0\n",
              "3    0\n",
              "4    4\n",
              "Name: clusters, dtype: int64"
            ],
            "text/html": [
              "<div>\n",
              "<style scoped>\n",
              "    .dataframe tbody tr th:only-of-type {\n",
              "        vertical-align: middle;\n",
              "    }\n",
              "\n",
              "    .dataframe tbody tr th {\n",
              "        vertical-align: top;\n",
              "    }\n",
              "\n",
              "    .dataframe thead th {\n",
              "        text-align: right;\n",
              "    }\n",
              "</style>\n",
              "<table border=\"1\" class=\"dataframe\">\n",
              "  <thead>\n",
              "    <tr style=\"text-align: right;\">\n",
              "      <th></th>\n",
              "      <th>clusters</th>\n",
              "    </tr>\n",
              "  </thead>\n",
              "  <tbody>\n",
              "    <tr>\n",
              "      <th>0</th>\n",
              "      <td>0</td>\n",
              "    </tr>\n",
              "    <tr>\n",
              "      <th>1</th>\n",
              "      <td>3</td>\n",
              "    </tr>\n",
              "    <tr>\n",
              "      <th>2</th>\n",
              "      <td>0</td>\n",
              "    </tr>\n",
              "    <tr>\n",
              "      <th>3</th>\n",
              "      <td>0</td>\n",
              "    </tr>\n",
              "    <tr>\n",
              "      <th>4</th>\n",
              "      <td>4</td>\n",
              "    </tr>\n",
              "  </tbody>\n",
              "</table>\n",
              "</div><br><label><b>dtype:</b> int64</label>"
            ]
          },
          "metadata": {},
          "execution_count": 10
        }
      ]
    },
    {
      "cell_type": "code",
      "source": [
        "X_train, X_test, y_train, y_test = train_test_split(X, y, test_size=0.2, random_state=42)"
      ],
      "metadata": {
        "id": "crg2xTbRTdS_"
      },
      "execution_count": 11,
      "outputs": []
    },
    {
      "cell_type": "code",
      "source": [
        "scaler = StandardScaler()\n",
        "X_train = scaler.fit_transform(X_train)\n",
        "X_test = scaler.transform(X_test)\n",
        "X_train_scale = pd.DataFrame(X_train, columns=X.columns)\n",
        "X_test_scale = pd.DataFrame(X_test, columns=X.columns)"
      ],
      "metadata": {
        "id": "yRSHsH6vThFs"
      },
      "execution_count": 12,
      "outputs": []
    },
    {
      "cell_type": "markdown",
      "source": [
        "# **4. Membangun Model Klasifikasi**\n"
      ],
      "metadata": {
        "id": "IVPbB03CMhTT"
      }
    },
    {
      "cell_type": "markdown",
      "source": [
        "Sebelum memutuskan model apa yang akan digunakan dilakukan pengujiam telebih dahulu dengan cross validation unutk mengetahui data lebih cocok menggunakan model yang mana"
      ],
      "metadata": {
        "id": "7owBgVmH2hqB"
      }
    },
    {
      "cell_type": "code",
      "source": [
        "knn = KNeighborsClassifier()\n",
        "dt = DecisionTreeClassifier()\n",
        "svm = SVC()\n",
        "rf = RandomForestClassifier()\n",
        "nb = GaussianNB()\n",
        "lg = LogisticRegression()"
      ],
      "metadata": {
        "id": "dACRqCRvUEpp"
      },
      "execution_count": 13,
      "outputs": []
    },
    {
      "cell_type": "code",
      "source": [
        "score_knn = cross_val_score(knn, X_train_scale, y_train, cv=5)\n",
        "score_dt = cross_val_score(dt, X_train_scale, y_train, cv=5)\n",
        "score_svm = cross_val_score(svm, X_train_scale, y_train, cv=5)\n",
        "score_rf = cross_val_score(rf, X_train_scale, y_train, cv=5)\n",
        "score_nb = cross_val_score(nb, X_train_scale, y_train, cv=5)\n",
        "score_lg = cross_val_score(lg, X_train_scale, y_train, cv=5)"
      ],
      "metadata": {
        "id": "fNjqVlBKUI_y"
      },
      "execution_count": 14,
      "outputs": []
    },
    {
      "cell_type": "code",
      "source": [
        "print(f'KNeighborsClassifier : {score_knn.mean()}')\n",
        "print(f'DecisionTreeClassifier : {score_dt.mean()}')\n",
        "print(f'SVM : {score_svm.mean()}')\n",
        "print(f'RandomForestClassifier : {score_rf.mean()}')\n",
        "print(f'Naive Bayes : {score_nb.mean()}')\n",
        "print(f'LogisticRegression : {score_lg.mean()}')"
      ],
      "metadata": {
        "colab": {
          "base_uri": "https://localhost:8080/"
        },
        "id": "hA2Q-cHfURQW",
        "outputId": "02a15e47-e976-425d-c8f7-e10a66b60955"
      },
      "execution_count": 15,
      "outputs": [
        {
          "output_type": "stream",
          "name": "stdout",
          "text": [
            "KNeighborsClassifier : 0.9762927166242082\n",
            "DecisionTreeClassifier : 0.9997543751687399\n",
            "SVM : 0.9821887683766135\n",
            "RandomForestClassifier : 0.9995086749230395\n",
            "Naive Bayes : 0.901487097343451\n",
            "LogisticRegression : 0.9841539932700154\n"
          ]
        }
      ]
    },
    {
      "cell_type": "markdown",
      "source": [
        "Pada hasil pengujian dengan cross-validation, terlihat bahwa skor pada sebagian besar model hampir mendekati sempurna. Hal ini bisa menjadi masalah karena kemungkinan overfitting, di mana model terlalu menyesuaikan diri dengan data latihan dan kurang mampu menggeneralisasi pada data baru, sehingga menghasilkan model yang tidak optimal."
      ],
      "metadata": {
        "id": "-14hP7lY220o"
      }
    },
    {
      "cell_type": "markdown",
      "source": [
        "## **a. Membangun Model Klasifikasi**"
      ],
      "metadata": {
        "id": "Ned1pL9zMmBK"
      }
    },
    {
      "cell_type": "code",
      "source": [
        "nb = GaussianNB().fit(X_train_scale, y_train)"
      ],
      "metadata": {
        "id": "7y8ue5agetwp"
      },
      "execution_count": 16,
      "outputs": []
    },
    {
      "cell_type": "code",
      "source": [
        "knn = KNeighborsClassifier().fit(X_train_scale, y_train)"
      ],
      "metadata": {
        "id": "Hmf052VeU2mc"
      },
      "execution_count": 17,
      "outputs": []
    },
    {
      "cell_type": "markdown",
      "source": [
        "Di sini dipilih model Naïve Bayes dan KNN.\n",
        "1. Naive Bayes dipilih karena memberikan hasil yang lebih masuk akal dan tidak terlihat overfitting, dibandingkan dengan model lain berdasarkan hasil cross-validation.\n",
        "2. Model KNN disini sangat tinggi yaitu 98%. KNN dipilih untuk mengetahui apakah akurasi yang tinggi benar-benar mencerminkan performa model, atau justru disebabkan oleh overfitting."
      ],
      "metadata": {
        "id": "seYoHNY3XU1y"
      }
    },
    {
      "cell_type": "markdown",
      "source": [
        "## **b. Evaluasi Model Klasifikasi**"
      ],
      "metadata": {
        "id": "ergzChZFEL-O"
      }
    },
    {
      "cell_type": "markdown",
      "source": [
        "### Evaluasi Data Training Naive Bayes"
      ],
      "metadata": {
        "id": "VAuyirkgiSdU"
      }
    },
    {
      "cell_type": "code",
      "source": [
        "y_pred_nb = nb.predict(X_train_scale)\n",
        "con_matrix = confusion_matrix(y_train, y_pred_nb)\n",
        "print(classification_report(y_train, y_pred_nb))\n",
        "accuracy = accuracy_score(y_train, y_pred_nb)\n",
        "print(f'Accuracy : {accuracy:.2f}')\n",
        "matrix_img = ConfusionMatrixDisplay(confusion_matrix=con_matrix, display_labels=nb.classes_)\n",
        "matrix_img.plot(cmap='Blues')\n",
        "plt.title('Confution Matriks Naive Bayes')\n",
        "plt.show()"
      ],
      "metadata": {
        "colab": {
          "base_uri": "https://localhost:8080/",
          "height": 712
        },
        "id": "gALAr0xZg4Yv",
        "outputId": "9867dba7-cbee-418f-ed69-3c0d1e14c6c1"
      },
      "execution_count": 19,
      "outputs": [
        {
          "output_type": "stream",
          "name": "stdout",
          "text": [
            "              precision    recall  f1-score   support\n",
            "\n",
            "           0       0.77      1.00      0.87      2234\n",
            "           1       1.00      0.90      0.95      1965\n",
            "           2       0.98      1.00      0.99       297\n",
            "           3       0.92      1.00      0.96      1802\n",
            "           4       1.00      0.67      0.80      1843\n",
            "\n",
            "    accuracy                           0.90      8141\n",
            "   macro avg       0.94      0.91      0.91      8141\n",
            "weighted avg       0.92      0.90      0.90      8141\n",
            "\n",
            "Accuracy : 0.90\n"
          ]
        },
        {
          "output_type": "display_data",
          "data": {
            "text/plain": [
              "<Figure size 640x480 with 2 Axes>"
            ],
            "image/png": "[encoded data removed]"
          },
          "metadata": {}
        }
      ]
    },
    {
      "cell_type": "markdown",
      "source": [
        "### Evaluasi Data Test Naive Bayes"
      ],
      "metadata": {
        "id": "kbooFUctiXyN"
      }
    },
    {
      "cell_type": "code",
      "source": [
        "y_pred_nb = nb.predict(X_test_scale)\n",
        "con_matrix = confusion_matrix(y_test, y_pred_nb)\n",
        "print(classification_report(y_test, y_pred_nb))\n",
        "accuracy = accuracy_score(y_test, y_pred_nb)\n",
        "print(f'Accuracy : {accuracy:.2f}')\n",
        "matrix_img = ConfusionMatrixDisplay(confusion_matrix=con_matrix, display_labels=nb.classes_)\n",
        "matrix_img.plot(cmap='Blues')\n",
        "plt.title('Confution Matriks Naive Bayes')\n",
        "plt.show()"
      ],
      "metadata": {
        "colab": {
          "base_uri": "https://localhost:8080/",
          "height": 712
        },
        "id": "GauqooCbichQ",
        "outputId": "2dc87e25-7d62-45cf-a975-82156f47471d"
      },
      "execution_count": 20,
      "outputs": [
        {
          "output_type": "stream",
          "name": "stdout",
          "text": [
            "              precision    recall  f1-score   support\n",
            "\n",
            "           0       0.75      1.00      0.86       583\n",
            "           1       1.00      0.89      0.94       432\n",
            "           2       0.98      1.00      0.99        64\n",
            "           3       0.93      1.00      0.97       479\n",
            "           4       1.00      0.62      0.76       478\n",
            "\n",
            "    accuracy                           0.89      2036\n",
            "   macro avg       0.93      0.90      0.90      2036\n",
            "weighted avg       0.91      0.89      0.88      2036\n",
            "\n",
            "Accuracy : 0.89\n"
          ]
        },
        {
          "output_type": "display_data",
          "data": {
            "text/plain": [
              "<Figure size 640x480 with 2 Axes>"
            ],
            "image/png": "[encoded data removed]"
          },
          "metadata": {}
        }
      ]
    },
    {
      "cell_type": "markdown",
      "source": [
        "### Evaluasi Data Training KNN"
      ],
      "metadata": {
        "id": "EzdGsfDzixeH"
      }
    },
    {
      "cell_type": "code",
      "source": [
        "y_pred_knn = knn.predict(X_train)\n",
        "con_metric = confusion_matrix(y_train, y_pred_knn)\n",
        "print('Classification matrik')\n",
        "print(classification_report(y_train, y_pred_knn))\n",
        "accuracy = accuracy_score(y_train, y_pred_knn)\n",
        "print(f'Accuracy : {accuracy:.2f}')\n",
        "matriks = ConfusionMatrixDisplay(confusion_matrix=con_metric, display_labels = knn.classes_)\n",
        "matriks.plot(cmap='Blues')\n",
        "plt.title('Confution Matriks KNN')\n",
        "plt.show()"
      ],
      "metadata": {
        "colab": {
          "base_uri": "https://localhost:8080/",
          "height": 730
        },
        "id": "A3vbz31IUxhK",
        "outputId": "f80d4e97-f280-484f-c9bb-48fb14045b3f"
      },
      "execution_count": 21,
      "outputs": [
        {
          "output_type": "stream",
          "name": "stdout",
          "text": [
            "Classification matrik\n",
            "              precision    recall  f1-score   support\n",
            "\n",
            "           0       0.98      1.00      0.99      2234\n",
            "           1       1.00      0.96      0.98      1965\n",
            "           2       1.00      1.00      1.00       297\n",
            "           3       0.97      1.00      0.99      1802\n",
            "           4       1.00      0.99      0.99      1843\n",
            "\n",
            "    accuracy                           0.99      8141\n",
            "   macro avg       0.99      0.99      0.99      8141\n",
            "weighted avg       0.99      0.99      0.99      8141\n",
            "\n",
            "Accuracy : 0.99\n"
          ]
        },
        {
          "output_type": "display_data",
          "data": {
            "text/plain": [
              "<Figure size 640x480 with 2 Axes>"
            ],
            "image/png": "[encoded data removed]"
          },
          "metadata": {}
        }
      ]
    },
    {
      "cell_type": "markdown",
      "source": [
        "### Evaluasi Data Test KNN"
      ],
      "metadata": {
        "id": "Hk0saFaei6Ys"
      }
    },
    {
      "cell_type": "code",
      "source": [
        "y_pred_knn = knn.predict(X_test_scale)\n",
        "con_metric = confusion_matrix(y_test, y_pred_knn)\n",
        "print('Classification matrik')\n",
        "print(classification_report(y_test, y_pred_knn))\n",
        "accuracy = accuracy_score(y_test, y_pred_knn)\n",
        "print(f'Accuracy : {accuracy:.2f}')\n",
        "matriks = ConfusionMatrixDisplay(confusion_matrix=con_metric, display_labels = knn.classes_)\n",
        "matriks.plot(cmap='Blues')\n",
        "plt.title('Confution Matriks KNN')\n",
        "plt.show()"
      ],
      "metadata": {
        "id": "4JYxBe87NLDk",
        "colab": {
          "base_uri": "https://localhost:8080/",
          "height": 730
        },
        "outputId": "10921af0-7679-4681-ec12-b0d657e2aa8c"
      },
      "execution_count": 22,
      "outputs": [
        {
          "output_type": "stream",
          "name": "stdout",
          "text": [
            "Classification matrik\n",
            "              precision    recall  f1-score   support\n",
            "\n",
            "           0       0.97      1.00      0.98       583\n",
            "           1       0.99      0.93      0.96       432\n",
            "           2       1.00      1.00      1.00        64\n",
            "           3       0.97      0.99      0.98       479\n",
            "           4       1.00      0.98      0.99       478\n",
            "\n",
            "    accuracy                           0.98      2036\n",
            "   macro avg       0.98      0.98      0.98      2036\n",
            "weighted avg       0.98      0.98      0.98      2036\n",
            "\n",
            "Accuracy : 0.98\n"
          ]
        },
        {
          "output_type": "display_data",
          "data": {
            "text/plain": [
              "<Figure size 640x480 with 2 Axes>"
            ],
            "image/png": "[encoded data removed]"
          },
          "metadata": {}
        }
      ]
    },
    {
      "cell_type": "markdown",
      "source": [
        "Akurasi yang sangat tinggi pada KNN bisa disebabkan oleh kesederhanaan data. fitur yang digunakan terlalu sederhana, model dapat dengan mudah membedakan kelas berdasarkan fitur yang tersedia, sehingga meningkatkan kemungkinan overfitting."
      ],
      "metadata": {
        "id": "_OQmppSdkMLS"
      }
    },
    {
      "cell_type": "markdown",
      "source": [
        "## **Insight : Evaluasi pada data test** <br>\n",
        "1. Naive Bayes akurasi 0.89\n",
        " - Kelas 0: Precision 0.75, Recall 1.00, F1-score 0.86 <br>\n",
        "   Semua sampel kelas ini berhasil diklasifikasikan dengan benar, namun ada beberapa data dari kelas lain yang salah diklasifikasikan.\n",
        " - Kelas 1: Precision 1.00, Recall 0.89, F1-score 0.94 <br>\n",
        "  Tidak ada kesalahan dalam memprediksi kelas ini, tetapi masih ada 11% sampel dari kelas 1 yang salah diklasifikasikan ke kelas lain.\n",
        " - Kelas 2: Precision 0.98, Recall 1.00, F1-score 0.99 <br>\n",
        "   Kinerja sangat baik, hampir sempurna.\n",
        " - Kelas 3: Precision 0.93, Recall 1.00, F1-score 0.97 <b>\n",
        "  Tidak ada sampel kelas ini yang salah diklasifikasikan, tetapi ada sedikit kesalahan klasifikasi.\n",
        "- Kelas 4: Precision 1.00, Recall 0.62, F1-score 0.76 <br>\n",
        " Model kesulitan dalam mengenali kelas ini, karena hanya 62% sampel yang diklasifikasikan dengan benar.\n",
        "\n",
        "2. K-Nearest Neighbors (KNN) akurasi 0.98\n",
        " - Kelas 0: Precision 0.97, Recall 1.00, F1-score 0.98 <br>\n",
        " Hampir sempurna, semua sampel kelas ini diklasifikasikan dengan benar.\n",
        " - Kelas 1: Precision 0.99, Recall 0.93, F1-score 0.96 <br>\n",
        "   secara keseluruhan kinerja masih sangat baik.\n",
        " - Kelas 2: Precision 1.00, Recall 1.00, F1-score 1.00 → Performa sempurna.\n",
        " - Kelas 3: Precision 0.97, Recall 0.99, F1-score 0.98 <br>\n",
        "  Hampir tidak ada kesalahan klasifikasi.\n",
        " - Kelas 4: Precision 1.00, Recall 0.98, F1-score 0.99 <br>\n",
        "  Performa sangat baik dibandingkan Naïve Bayes, dengan recall jauh lebih tinggi.\n",
        "\n",
        "\n"
      ],
      "metadata": {
        "id": "7W1ULl-Lo3Vh"
      }
    },
    {
      "cell_type": "markdown",
      "source": [
        "1. Naive Bayes bekerja dengan cukup baik. <br>\n",
        "Saat diuji pada data pelatihan, model mampu mengenali sebagian besar cluster dengan akurasi 90%. Namun, terdapat beberapa cluster yang sulit dikenali, seperti yang terlihat dari nilai recall, yaitu 67% pada data training dan 62% pada data testing. Hal ini menunjukkan bahwa model masih mengalami kesulitan dalam mendeteksi beberapa kategori secara optimal.\n",
        "\n",
        "2. KNN menunjukkan akurasi yang hampir sempurna. <br>\n",
        "Model mencapai 99% akurasi pada data pelatihan dan 98% pada data uji, menunjukkan bahwa model nyaris tidak pernah salah. Selisih akurasi yang sangat tipis antara training dan testing mengindikasikan bahwa model tidak mengalami overfitting dan memang memiliki performa yang sangat baik. Namun, kemungkinan lain adalah bahwa data terlalu sederhana, sehingga pola dalam data lebih mudah dikenali oleh model."
      ],
      "metadata": {
        "id": "H4_9OwrsXZlz"
      }
    },
    {
      "cell_type": "markdown",
      "source": [
        "## **c. Tuning Model Klasifikasi (Optional)**"
      ],
      "metadata": {
        "id": "ph9yIYDXEPuB"
      }
    },
    {
      "cell_type": "code",
      "source": [
        "param_dist = {\n",
        "    'var_smoothing': np.logspace(-9, 0, 10)\n",
        "}\n",
        "random_search = RandomizedSearchCV(GaussianNB(), param_dist, n_iter=5, cv=5, scoring='accuracy', n_jobs=-1, random_state=42)\n",
        "random_search.fit(X_train_scale, y_train)\n",
        "print(f\"Best Params: {random_search.best_params_}\")\n",
        "print(f\"Best Score: {random_search.best_score_}\")\n"
      ],
      "metadata": {
        "colab": {
          "base_uri": "https://localhost:8080/"
        },
        "id": "SYjGLnX1dFmL",
        "outputId": "a344ee43-094d-4c9d-fbc2-14fac4a721f1"
      },
      "execution_count": 23,
      "outputs": [
        {
          "output_type": "stream",
          "name": "stdout",
          "text": [
            "Best Params: {'var_smoothing': np.float64(0.01)}\n",
            "Best Score: 0.9702738147489528\n"
          ]
        }
      ]
    },
    {
      "cell_type": "code",
      "source": [
        "knn = KNeighborsClassifier()\n",
        "param_grid = {\n",
        "    'n_neighbors': [3, 5, 7, 9, 11],\n",
        "    'weights': ['uniform', 'distance'],\n",
        "    'metric': ['euclidean', 'manhattan']\n",
        "}\n",
        "random_search  = RandomizedSearchCV(knn, param_grid, cv=5, scoring='accuracy', n_jobs=-1)\n",
        "random_search.fit(X_train_scale, y_train)\n",
        "print(f\"Best Params: {random_search.best_params_}\")\n",
        "print(f\"Best Score: {random_search.best_score_}\")"
      ],
      "metadata": {
        "id": "winbFzb8NL95",
        "colab": {
          "base_uri": "https://localhost:8080/"
        },
        "outputId": "63b7357d-c167-4adc-eeae-65b755cc6b0a"
      },
      "execution_count": 26,
      "outputs": [
        {
          "output_type": "stream",
          "name": "stdout",
          "text": [
            "Best Params: {'weights': 'distance', 'n_neighbors': 11, 'metric': 'manhattan'}\n",
            "Best Score: 0.9804688666567121\n"
          ]
        }
      ]
    },
    {
      "cell_type": "markdown",
      "source": [
        "Di sini ditemukan bahwa tuning parameter terbaik untuk Naïve Bayes adalah var_smoothing = 0.01. var_smoothing = 0.01 berarti model menambahkan 0.01 kali varian maksimum dari fitur ke semua varian fitur lainnya. Hal ini berguna untuk menstabilkan estimasi varians, terutama ketika terdapat fitur dengan varians yang sangat kecil. Dengan demikian, model menjadi lebih robust dan terhindar dari overfitting terhadap data pelatihan."
      ],
      "metadata": {
        "id": "LoyM5H2XG9Cz"
      }
    },
    {
      "cell_type": "markdown",
      "source": [
        "## **d. Evaluasi Model Klasifikasi setelah Tuning (Optional)**"
      ],
      "metadata": {
        "id": "hE7pqlEPEYzI"
      }
    },
    {
      "cell_type": "code",
      "source": [
        "nb = GaussianNB(var_smoothing=0.01).fit(X_train_scale, y_train)"
      ],
      "metadata": {
        "id": "HTXZRvEeNMb1"
      },
      "execution_count": 33,
      "outputs": []
    },
    {
      "cell_type": "code",
      "source": [
        "knn = KNeighborsClassifier(weights='distance', n_neighbors=11, metric='manhattan').fit(X_train_scale, y_train)"
      ],
      "metadata": {
        "id": "fXae4Qjn0qWG"
      },
      "execution_count": 29,
      "outputs": []
    },
    {
      "cell_type": "code",
      "source": [
        "y_pred_nb = nb.predict(X_train_scale)\n",
        "con_matrix = confusion_matrix(y_train, y_pred_nb)\n",
        "print(classification_report(y_train, y_pred_nb))\n",
        "print(f'Accuracy : {accuracy:.2f}')\n",
        "matrix_img = ConfusionMatrixDisplay(confusion_matrix=con_matrix, display_labels=nb.classes_)\n",
        "matrix_img.plot(cmap='Blues')\n",
        "plt.title('Confution Matriks Naive Bayes')\n",
        "plt.show()"
      ],
      "metadata": {
        "colab": {
          "base_uri": "https://localhost:8080/",
          "height": 712
        },
        "id": "1ELBT0MdsXZQ",
        "outputId": "16f3aceb-8806-4eef-d11b-7f3a2a58cb47"
      },
      "execution_count": 30,
      "outputs": [
        {
          "output_type": "stream",
          "name": "stdout",
          "text": [
            "              precision    recall  f1-score   support\n",
            "\n",
            "           0       0.94      1.00      0.97      2234\n",
            "           1       1.00      0.92      0.96      1965\n",
            "           2       0.98      1.00      0.99       297\n",
            "           3       0.94      1.00      0.97      1802\n",
            "           4       1.00      0.95      0.98      1843\n",
            "\n",
            "    accuracy                           0.97      8141\n",
            "   macro avg       0.97      0.97      0.97      8141\n",
            "weighted avg       0.97      0.97      0.97      8141\n",
            "\n",
            "Accuracy : 0.98\n"
          ]
        },
        {
          "output_type": "display_data",
          "data": {
            "text/plain": [
              "<Figure size 640x480 with 2 Axes>"
            ],
            "image/png": "[encoded data removed]"
          },
          "metadata": {}
        }
      ]
    },
    {
      "cell_type": "markdown",
      "source": [
        "Pada KNN, tidak dilakukan tuning karena hasil akurasi sebelumnya sudah mendekati sempurna. Data ini mungkin terlalu sederhana bagi KNN, sehingga model dapat dengan mudah mengenali pola yang ada. Jika tuning dilakukan kembali akurasi yang didapat adalah 100%. akurasi yang sempurna  tidak mungkin terjadi karena biasanya terdapat noise atau variasi dalam data. Selain itu, akurasi yang terlalu tinggi juga dapat menjadi indikasi overfitting, di mana model terlalu menyesuaikan diri dengan data pelatihan dan kurang mampu melakukan generalisasi pada data baru."
      ],
      "metadata": {
        "id": "ol17HeMkImgW"
      }
    },
    {
      "cell_type": "markdown",
      "source": [
        "## **e. Analisis Hasil Evaluasi Model Klasifikasi**"
      ],
      "metadata": {
        "id": "ZRsOdm4uEgAW"
      }
    },
    {
      "cell_type": "markdown",
      "source": [
        "1. Sebelum dilakukan tuning, model Naive Bayes memiliki akurasi 90% pada data train dan 89% pada data test. Setelah dilakukan tuning dengan var_smoothing = 0.01, akurasinya meningkat menjadi 98% pada data train, yang menunjukkan peningkatan signifikan.\n",
        "2. Identifikasi kelemahan model\n",
        "  - Potensi Overfitting pada Kelas Minor (Class 2)\n",
        "    * Precision = 0.98, Recall = 1.00, F1 = 0.99, tetapi support hanya 297 (kelas terkecil).\n",
        "    * Performa sangat tinggi pada kelas minor bisa mengindikasikan model terlalu spesifik atau overfitting ke data latih\n",
        "  -  Akurasi yang Sangat Tinggi (98%)\n",
        "    * dataset terlalu mudah/seimbang sehingga model mencapai akurasi sempurna\n",
        "3. rekomendasi tindakan lanjutan.\n",
        "  - Teknik Resampling (Oversampling atau Undersampling)\n",
        "    * misalnya, SMOTE untuk meningkatkan sensitivitas pada Class 1.\n",
        "  - Eksperimen dengan Algoritma Lain seperti XGBoost"
      ],
      "metadata": {
        "id": "Hm3BhSi6N4_l"
      }
    },
    {
      "cell_type": "code",
      "source": [],
      "metadata": {
        "id": "bhk5AC61rqbG"
      },
      "execution_count": null,
      "outputs": []
    }
  ]
}